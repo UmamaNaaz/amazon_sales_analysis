{
 "cells": [
  {
   "cell_type": "code",
   "execution_count": 1,
   "id": "3523db7a-4fa3-4fc2-ac4c-002a534df328",
   "metadata": {},
   "outputs": [],
   "source": [
    "import pandas as pd\n",
    "import numpy as np\n",
    "import matplotlib.pyplot as plt\n",
    "import seaborn as sns\n",
    "%matplotlib inline"
   ]
  },
  {
   "cell_type": "markdown",
   "id": "a79ff0c9-772d-4564-86cd-8579cf537750",
   "metadata": {},
   "source": [
    "### Data Loading"
   ]
  },
  {
   "cell_type": "code",
   "execution_count": 2,
   "id": "92a52a96-363e-434c-9191-c4a23b8c37e1",
   "metadata": {},
   "outputs": [],
   "source": [
    "df = pd.read_csv('amazon.csv')"
   ]
  },
  {
   "cell_type": "code",
   "execution_count": 3,
   "id": "265c2b12-ec0c-4458-bd82-b4c5866136dc",
   "metadata": {},
   "outputs": [],
   "source": [
    "# set the option to max to display all columns\n",
    "pd.set_option('display.max_columns', None)"
   ]
  },
  {
   "cell_type": "markdown",
   "id": "ee0ebe04-59ad-40d7-8253-99f41a1a304b",
   "metadata": {},
   "source": [
    "### Quick Overview Of Data"
   ]
  },
  {
   "cell_type": "code",
   "execution_count": 4,
   "id": "8d5a8bae-4b86-4c39-b039-257d9f1df101",
   "metadata": {},
   "outputs": [
    {
     "data": {
      "text/html": [
       "<div>\n",
       "<style scoped>\n",
       "    .dataframe tbody tr th:only-of-type {\n",
       "        vertical-align: middle;\n",
       "    }\n",
       "\n",
       "    .dataframe tbody tr th {\n",
       "        vertical-align: top;\n",
       "    }\n",
       "\n",
       "    .dataframe thead th {\n",
       "        text-align: right;\n",
       "    }\n",
       "</style>\n",
       "<table border=\"1\" class=\"dataframe\">\n",
       "  <thead>\n",
       "    <tr style=\"text-align: right;\">\n",
       "      <th></th>\n",
       "      <th>product_id</th>\n",
       "      <th>product_name</th>\n",
       "      <th>category</th>\n",
       "      <th>discounted_price</th>\n",
       "      <th>actual_price</th>\n",
       "      <th>discount_percentage</th>\n",
       "      <th>rating</th>\n",
       "      <th>rating_count</th>\n",
       "      <th>about_product</th>\n",
       "      <th>user_id</th>\n",
       "      <th>user_name</th>\n",
       "      <th>review_id</th>\n",
       "      <th>review_title</th>\n",
       "      <th>review_content</th>\n",
       "      <th>img_link</th>\n",
       "      <th>product_link</th>\n",
       "    </tr>\n",
       "  </thead>\n",
       "  <tbody>\n",
       "    <tr>\n",
       "      <th>0</th>\n",
       "      <td>B07JW9H4J1</td>\n",
       "      <td>Wayona Nylon Braided USB to Lightning Fast Cha...</td>\n",
       "      <td>Computers&amp;Accessories|Accessories&amp;Peripherals|...</td>\n",
       "      <td>₹399</td>\n",
       "      <td>₹1,099</td>\n",
       "      <td>64%</td>\n",
       "      <td>4.2</td>\n",
       "      <td>24,269</td>\n",
       "      <td>High Compatibility : Compatible With iPhone 12...</td>\n",
       "      <td>AG3D6O4STAQKAY2UVGEUV46KN35Q,AHMY5CWJMMK5BJRBB...</td>\n",
       "      <td>Manav,Adarsh gupta,Sundeep,S.Sayeed Ahmed,jasp...</td>\n",
       "      <td>R3HXWT0LRP0NMF,R2AJM3LFTLZHFO,R6AQJGUP6P86,R1K...</td>\n",
       "      <td>Satisfied,Charging is really fast,Value for mo...</td>\n",
       "      <td>Looks durable Charging is fine tooNo complains...</td>\n",
       "      <td>https://m.media-amazon.com/images/W/WEBP_40237...</td>\n",
       "      <td>https://www.amazon.in/Wayona-Braided-WN3LG1-Sy...</td>\n",
       "    </tr>\n",
       "    <tr>\n",
       "      <th>1</th>\n",
       "      <td>B098NS6PVG</td>\n",
       "      <td>Ambrane Unbreakable 60W / 3A Fast Charging 1.5...</td>\n",
       "      <td>Computers&amp;Accessories|Accessories&amp;Peripherals|...</td>\n",
       "      <td>₹199</td>\n",
       "      <td>₹349</td>\n",
       "      <td>43%</td>\n",
       "      <td>4.0</td>\n",
       "      <td>43,994</td>\n",
       "      <td>Compatible with all Type C enabled devices, be...</td>\n",
       "      <td>AECPFYFQVRUWC3KGNLJIOREFP5LQ,AGYYVPDD7YG7FYNBX...</td>\n",
       "      <td>ArdKn,Nirbhay kumar,Sagar Viswanathan,Asp,Plac...</td>\n",
       "      <td>RGIQEG07R9HS2,R1SMWZQ86XIN8U,R2J3Y1WL29GWDE,RY...</td>\n",
       "      <td>A Good Braided Cable for Your Type C Device,Go...</td>\n",
       "      <td>I ordered this cable to connect my phone to An...</td>\n",
       "      <td>https://m.media-amazon.com/images/W/WEBP_40237...</td>\n",
       "      <td>https://www.amazon.in/Ambrane-Unbreakable-Char...</td>\n",
       "    </tr>\n",
       "    <tr>\n",
       "      <th>2</th>\n",
       "      <td>B096MSW6CT</td>\n",
       "      <td>Sounce Fast Phone Charging Cable &amp; Data Sync U...</td>\n",
       "      <td>Computers&amp;Accessories|Accessories&amp;Peripherals|...</td>\n",
       "      <td>₹199</td>\n",
       "      <td>₹1,899</td>\n",
       "      <td>90%</td>\n",
       "      <td>3.9</td>\n",
       "      <td>7,928</td>\n",
       "      <td>【 Fast Charger&amp; Data Sync】-With built-in safet...</td>\n",
       "      <td>AGU3BBQ2V2DDAMOAKGFAWDDQ6QHA,AESFLDV2PT363T2AQ...</td>\n",
       "      <td>Kunal,Himanshu,viswanath,sai niharka,saqib mal...</td>\n",
       "      <td>R3J3EQQ9TZI5ZJ,R3E7WBGK7ID0KV,RWU79XKQ6I1QF,R2...</td>\n",
       "      <td>Good speed for earlier versions,Good Product,W...</td>\n",
       "      <td>Not quite durable and sturdy,https://m.media-a...</td>\n",
       "      <td>https://m.media-amazon.com/images/W/WEBP_40237...</td>\n",
       "      <td>https://www.amazon.in/Sounce-iPhone-Charging-C...</td>\n",
       "    </tr>\n",
       "    <tr>\n",
       "      <th>3</th>\n",
       "      <td>B08HDJ86NZ</td>\n",
       "      <td>boAt Deuce USB 300 2 in 1 Type-C &amp; Micro USB S...</td>\n",
       "      <td>Computers&amp;Accessories|Accessories&amp;Peripherals|...</td>\n",
       "      <td>₹329</td>\n",
       "      <td>₹699</td>\n",
       "      <td>53%</td>\n",
       "      <td>4.2</td>\n",
       "      <td>94,363</td>\n",
       "      <td>The boAt Deuce USB 300 2 in 1 cable is compati...</td>\n",
       "      <td>AEWAZDZZJLQUYVOVGBEUKSLXHQ5A,AG5HTSFRRE6NL3M5S...</td>\n",
       "      <td>Omkar dhale,JD,HEMALATHA,Ajwadh a.,amar singh ...</td>\n",
       "      <td>R3EEUZKKK9J36I,R3HJVYCLYOY554,REDECAZ7AMPQC,R1...</td>\n",
       "      <td>Good product,Good one,Nice,Really nice product...</td>\n",
       "      <td>Good product,long wire,Charges good,Nice,I bou...</td>\n",
       "      <td>https://m.media-amazon.com/images/I/41V5FtEWPk...</td>\n",
       "      <td>https://www.amazon.in/Deuce-300-Resistant-Tang...</td>\n",
       "    </tr>\n",
       "    <tr>\n",
       "      <th>4</th>\n",
       "      <td>B08CF3B7N1</td>\n",
       "      <td>Portronics Konnect L 1.2M Fast Charging 3A 8 P...</td>\n",
       "      <td>Computers&amp;Accessories|Accessories&amp;Peripherals|...</td>\n",
       "      <td>₹154</td>\n",
       "      <td>₹399</td>\n",
       "      <td>61%</td>\n",
       "      <td>4.2</td>\n",
       "      <td>16,905</td>\n",
       "      <td>[CHARGE &amp; SYNC FUNCTION]- This cable comes wit...</td>\n",
       "      <td>AE3Q6KSUK5P75D5HFYHCRAOLODSA,AFUGIFH5ZAFXRDSZH...</td>\n",
       "      <td>rahuls6099,Swasat Borah,Ajay Wadke,Pranali,RVK...</td>\n",
       "      <td>R1BP4L2HH9TFUP,R16PVJEXKV6QZS,R2UPDB81N66T4P,R...</td>\n",
       "      <td>As good as original,Decent,Good one for second...</td>\n",
       "      <td>Bought this instead of original apple, does th...</td>\n",
       "      <td>https://m.media-amazon.com/images/W/WEBP_40237...</td>\n",
       "      <td>https://www.amazon.in/Portronics-Konnect-POR-1...</td>\n",
       "    </tr>\n",
       "  </tbody>\n",
       "</table>\n",
       "</div>"
      ],
      "text/plain": [
       "   product_id                                       product_name  \\\n",
       "0  B07JW9H4J1  Wayona Nylon Braided USB to Lightning Fast Cha...   \n",
       "1  B098NS6PVG  Ambrane Unbreakable 60W / 3A Fast Charging 1.5...   \n",
       "2  B096MSW6CT  Sounce Fast Phone Charging Cable & Data Sync U...   \n",
       "3  B08HDJ86NZ  boAt Deuce USB 300 2 in 1 Type-C & Micro USB S...   \n",
       "4  B08CF3B7N1  Portronics Konnect L 1.2M Fast Charging 3A 8 P...   \n",
       "\n",
       "                                            category discounted_price  \\\n",
       "0  Computers&Accessories|Accessories&Peripherals|...             ₹399   \n",
       "1  Computers&Accessories|Accessories&Peripherals|...             ₹199   \n",
       "2  Computers&Accessories|Accessories&Peripherals|...             ₹199   \n",
       "3  Computers&Accessories|Accessories&Peripherals|...             ₹329   \n",
       "4  Computers&Accessories|Accessories&Peripherals|...             ₹154   \n",
       "\n",
       "  actual_price discount_percentage rating rating_count  \\\n",
       "0       ₹1,099                 64%    4.2       24,269   \n",
       "1         ₹349                 43%    4.0       43,994   \n",
       "2       ₹1,899                 90%    3.9        7,928   \n",
       "3         ₹699                 53%    4.2       94,363   \n",
       "4         ₹399                 61%    4.2       16,905   \n",
       "\n",
       "                                       about_product  \\\n",
       "0  High Compatibility : Compatible With iPhone 12...   \n",
       "1  Compatible with all Type C enabled devices, be...   \n",
       "2  【 Fast Charger& Data Sync】-With built-in safet...   \n",
       "3  The boAt Deuce USB 300 2 in 1 cable is compati...   \n",
       "4  [CHARGE & SYNC FUNCTION]- This cable comes wit...   \n",
       "\n",
       "                                             user_id  \\\n",
       "0  AG3D6O4STAQKAY2UVGEUV46KN35Q,AHMY5CWJMMK5BJRBB...   \n",
       "1  AECPFYFQVRUWC3KGNLJIOREFP5LQ,AGYYVPDD7YG7FYNBX...   \n",
       "2  AGU3BBQ2V2DDAMOAKGFAWDDQ6QHA,AESFLDV2PT363T2AQ...   \n",
       "3  AEWAZDZZJLQUYVOVGBEUKSLXHQ5A,AG5HTSFRRE6NL3M5S...   \n",
       "4  AE3Q6KSUK5P75D5HFYHCRAOLODSA,AFUGIFH5ZAFXRDSZH...   \n",
       "\n",
       "                                           user_name  \\\n",
       "0  Manav,Adarsh gupta,Sundeep,S.Sayeed Ahmed,jasp...   \n",
       "1  ArdKn,Nirbhay kumar,Sagar Viswanathan,Asp,Plac...   \n",
       "2  Kunal,Himanshu,viswanath,sai niharka,saqib mal...   \n",
       "3  Omkar dhale,JD,HEMALATHA,Ajwadh a.,amar singh ...   \n",
       "4  rahuls6099,Swasat Borah,Ajay Wadke,Pranali,RVK...   \n",
       "\n",
       "                                           review_id  \\\n",
       "0  R3HXWT0LRP0NMF,R2AJM3LFTLZHFO,R6AQJGUP6P86,R1K...   \n",
       "1  RGIQEG07R9HS2,R1SMWZQ86XIN8U,R2J3Y1WL29GWDE,RY...   \n",
       "2  R3J3EQQ9TZI5ZJ,R3E7WBGK7ID0KV,RWU79XKQ6I1QF,R2...   \n",
       "3  R3EEUZKKK9J36I,R3HJVYCLYOY554,REDECAZ7AMPQC,R1...   \n",
       "4  R1BP4L2HH9TFUP,R16PVJEXKV6QZS,R2UPDB81N66T4P,R...   \n",
       "\n",
       "                                        review_title  \\\n",
       "0  Satisfied,Charging is really fast,Value for mo...   \n",
       "1  A Good Braided Cable for Your Type C Device,Go...   \n",
       "2  Good speed for earlier versions,Good Product,W...   \n",
       "3  Good product,Good one,Nice,Really nice product...   \n",
       "4  As good as original,Decent,Good one for second...   \n",
       "\n",
       "                                      review_content  \\\n",
       "0  Looks durable Charging is fine tooNo complains...   \n",
       "1  I ordered this cable to connect my phone to An...   \n",
       "2  Not quite durable and sturdy,https://m.media-a...   \n",
       "3  Good product,long wire,Charges good,Nice,I bou...   \n",
       "4  Bought this instead of original apple, does th...   \n",
       "\n",
       "                                            img_link  \\\n",
       "0  https://m.media-amazon.com/images/W/WEBP_40237...   \n",
       "1  https://m.media-amazon.com/images/W/WEBP_40237...   \n",
       "2  https://m.media-amazon.com/images/W/WEBP_40237...   \n",
       "3  https://m.media-amazon.com/images/I/41V5FtEWPk...   \n",
       "4  https://m.media-amazon.com/images/W/WEBP_40237...   \n",
       "\n",
       "                                        product_link  \n",
       "0  https://www.amazon.in/Wayona-Braided-WN3LG1-Sy...  \n",
       "1  https://www.amazon.in/Ambrane-Unbreakable-Char...  \n",
       "2  https://www.amazon.in/Sounce-iPhone-Charging-C...  \n",
       "3  https://www.amazon.in/Deuce-300-Resistant-Tang...  \n",
       "4  https://www.amazon.in/Portronics-Konnect-POR-1...  "
      ]
     },
     "execution_count": 4,
     "metadata": {},
     "output_type": "execute_result"
    }
   ],
   "source": [
    "#Let's have a look on top 5 rows of the data\n",
    "\n",
    "df.head(5)"
   ]
  },
  {
   "cell_type": "code",
   "execution_count": 6,
   "id": "16352685-caf9-4ceb-9536-7e96c3f96871",
   "metadata": {},
   "outputs": [
    {
     "data": {
      "text/plain": [
       "Index(['product_id', 'product_name', 'category', 'discounted_price',\n",
       "       'actual_price', 'discount_percentage', 'rating', 'rating_count',\n",
       "       'about_product', 'user_id', 'user_name', 'review_id', 'review_title',\n",
       "       'review_content', 'img_link', 'product_link'],\n",
       "      dtype='object')"
      ]
     },
     "execution_count": 6,
     "metadata": {},
     "output_type": "execute_result"
    }
   ],
   "source": [
    "# Let's see columns name\n",
    "\n",
    "df.columns"
   ]
  },
  {
   "cell_type": "code",
   "execution_count": 7,
   "id": "f5186439-9d5c-4551-a26d-7f5acb1897e6",
   "metadata": {},
   "outputs": [
    {
     "name": "stdout",
     "output_type": "stream",
     "text": [
      "The number of rows are: 1465\n",
      "The number of columns are: 16\n"
     ]
    }
   ],
   "source": [
    "# shape of the data \n",
    "\n",
    "print(f\"The number of rows are: {df.shape[0]}\\nThe number of columns are: {df.shape[1]}\")"
   ]
  },
  {
   "cell_type": "code",
   "execution_count": 8,
   "id": "ece97e4c-60b5-40d1-bb61-6617ef22046d",
   "metadata": {},
   "outputs": [
    {
     "name": "stdout",
     "output_type": "stream",
     "text": [
      "<class 'pandas.core.frame.DataFrame'>\n",
      "RangeIndex: 1465 entries, 0 to 1464\n",
      "Data columns (total 16 columns):\n",
      " #   Column               Non-Null Count  Dtype \n",
      "---  ------               --------------  ----- \n",
      " 0   product_id           1465 non-null   object\n",
      " 1   product_name         1465 non-null   object\n",
      " 2   category             1465 non-null   object\n",
      " 3   discounted_price     1465 non-null   object\n",
      " 4   actual_price         1465 non-null   object\n",
      " 5   discount_percentage  1465 non-null   object\n",
      " 6   rating               1465 non-null   object\n",
      " 7   rating_count         1463 non-null   object\n",
      " 8   about_product        1465 non-null   object\n",
      " 9   user_id              1465 non-null   object\n",
      " 10  user_name            1465 non-null   object\n",
      " 11  review_id            1465 non-null   object\n",
      " 12  review_title         1465 non-null   object\n",
      " 13  review_content       1465 non-null   object\n",
      " 14  img_link             1465 non-null   object\n",
      " 15  product_link         1465 non-null   object\n",
      "dtypes: object(16)\n",
      "memory usage: 183.3+ KB\n"
     ]
    }
   ],
   "source": [
    "# let's have a look on columns and its data type in detail\n",
    "\n",
    "df.info()"
   ]
  },
  {
   "cell_type": "code",
   "execution_count": 9,
   "id": "7067c4b3-1bdf-4754-b06e-48679281598a",
   "metadata": {},
   "outputs": [],
   "source": [
    "# removing columns which we dont need\n",
    "\n",
    "df.drop(['user_id','user_name','review_id','review_title','review_content','img_link','product_link'],axis = 1, inplace = True, errors = 'ignore')\n"
   ]
  },
  {
   "cell_type": "code",
   "execution_count": null,
   "id": "48a4f74e-39f4-4f1b-a1ee-26c4c830df9c",
   "metadata": {},
   "outputs": [],
   "source": [
    "df.isnull().sum()"
   ]
  },
  {
   "cell_type": "markdown",
   "id": "a3658fea-97a8-492f-aa79-ff5967ddf875",
   "metadata": {},
   "source": [
    "## Observation Set 1"
   ]
  },
  {
   "cell_type": "markdown",
   "id": "c07edd25-83b5-4daa-a751-d13d5bacac96",
   "metadata": {},
   "source": [
    "-  There are 1465 rows and 16 columns in the dataset.\n",
    "-  The data type of all the columns is object.\n",
    "-  The columns in the dataset are:\n",
    "    -  'product_id', 'product_name', 'category', 'discounted_price', 'actual_price', 'discount_percentage', 'rating', 'rating_count', 'about_product', 'user_id', 'user_name', 'review_id', 'review_title', 'review_content', 'img_link', 'product_link'\n",
    "-  There are few missing details in the dataset."
   ]
  },
  {
   "cell_type": "markdown",
   "id": "ede86bd2-eeba-42a4-8889-26eb5117c607",
   "metadata": {},
   "source": [
    "### Changing Data Type of Columns From Object To Float\r\n"
   ]
  },
  {
   "cell_type": "code",
   "execution_count": 10,
   "id": "2b8e1a51-bca8-49d9-bb1c-6cabf89384ff",
   "metadata": {},
   "outputs": [],
   "source": [
    "# changing data type of discounted_price actual price\n",
    "\n",
    "df['discounted_price'] = df['discounted_price'].astype('str')\n",
    "df['discounted_price'] = df['discounted_price'].str.replace(\"₹\",'')\n",
    "df['discounted_price'] = df['discounted_price'].str.replace(\",\",'')\n",
    "df['discounted_price'] = df['discounted_price'].astype('float64')\n",
    "\n",
    "# changing data type of actual price\n",
    "\n",
    "df['actual_price'] = df['actual_price'].astype('str')\n",
    "df['actual_price'] = df['actual_price'].str.replace(\"₹\",'') \n",
    "df['actual_price'] = df['actual_price'].str.replace(\",\",'')\n",
    "df['actual_price'] = df['actual_price'].astype('float64')"
   ]
  },
  {
   "cell_type": "code",
   "execution_count": 11,
   "id": "124da12d-8007-4397-a571-fd482f49a1dd",
   "metadata": {},
   "outputs": [],
   "source": [
    "# changing data type and values in the discount_percentage\n",
    "\n",
    "df['discount_percentage'] = df['discount_percentage'].astype('str')\n",
    "df['discount_percentage'] = df['discount_percentage'].str.replace(\"%\",\"\").astype('float64')\n",
    "df['discount_percentage'] = df['discount_percentage']/100"
   ]
  },
  {
   "cell_type": "code",
   "execution_count": 12,
   "id": "78946c3c-e760-4cc5-a646-1564a21d81cf",
   "metadata": {},
   "outputs": [
    {
     "data": {
      "text/plain": [
       "rating\n",
       "4.1    244\n",
       "4.3    230\n",
       "4.2    228\n",
       "4.0    129\n",
       "3.9    123\n",
       "4.4    123\n",
       "3.8     86\n",
       "4.5     75\n",
       "4       52\n",
       "3.7     42\n",
       "3.6     35\n",
       "3.5     26\n",
       "4.6     17\n",
       "3.3     16\n",
       "3.4     10\n",
       "4.7      6\n",
       "3.1      4\n",
       "5.0      3\n",
       "3.0      3\n",
       "4.8      3\n",
       "3.2      2\n",
       "2.8      2\n",
       "2.3      1\n",
       "|        1\n",
       "2        1\n",
       "3        1\n",
       "2.6      1\n",
       "2.9      1\n",
       "Name: count, dtype: int64"
      ]
     },
     "execution_count": 12,
     "metadata": {},
     "output_type": "execute_result"
    }
   ],
   "source": [
    "# finding unusual string in the rating column\n",
    "\n",
    "df['rating'].value_counts()"
   ]
  },
  {
   "cell_type": "markdown",
   "id": "bfc97016-8317-4456-a182-c4b4b3f8eb05",
   "metadata": {},
   "source": [
    "- There is an unusual value in the rating column which is '|' , we will replace this with the median value of the rating column"
   ]
  },
  {
   "cell_type": "code",
   "execution_count": 13,
   "id": "b4bd11bb-774d-4365-a5c7-52e8c11403fc",
   "metadata": {},
   "outputs": [],
   "source": [
    "#dealing with the unsual value in the rating column\n",
    "\n",
    "df['rating'] = pd.to_numeric(df['rating'], errors='coerce')\n",
    "\n",
    "df['rating'] = df.rating.fillna(value=df['rating'].median()).astype('float64')"
   ]
  },
  {
   "cell_type": "code",
   "execution_count": 14,
   "id": "e363032d-b52a-46f2-8b41-9e3eb90f5b3b",
   "metadata": {},
   "outputs": [],
   "source": [
    "# Changing rating_count column data type\n",
    "\n",
    "df['rating_count'] = df['rating_count'].str.replace(\",\",'').astype('float64')"
   ]
  },
  {
   "cell_type": "markdown",
   "id": "47dd2cfa-67c1-4c2b-a10d-2cd2576a60fa",
   "metadata": {},
   "source": [
    "### Descriptive Statistics"
   ]
  },
  {
   "cell_type": "code",
   "execution_count": 15,
   "id": "72ab6cf8-9170-4379-9bb5-3bcce8e0259c",
   "metadata": {},
   "outputs": [
    {
     "data": {
      "text/html": [
       "<div>\n",
       "<style scoped>\n",
       "    .dataframe tbody tr th:only-of-type {\n",
       "        vertical-align: middle;\n",
       "    }\n",
       "\n",
       "    .dataframe tbody tr th {\n",
       "        vertical-align: top;\n",
       "    }\n",
       "\n",
       "    .dataframe thead th {\n",
       "        text-align: right;\n",
       "    }\n",
       "</style>\n",
       "<table border=\"1\" class=\"dataframe\">\n",
       "  <thead>\n",
       "    <tr style=\"text-align: right;\">\n",
       "      <th></th>\n",
       "      <th>discounted_price</th>\n",
       "      <th>actual_price</th>\n",
       "      <th>discount_percentage</th>\n",
       "      <th>rating</th>\n",
       "      <th>rating_count</th>\n",
       "    </tr>\n",
       "  </thead>\n",
       "  <tbody>\n",
       "    <tr>\n",
       "      <th>count</th>\n",
       "      <td>1465.000000</td>\n",
       "      <td>1465.000000</td>\n",
       "      <td>1465.000000</td>\n",
       "      <td>1465.000000</td>\n",
       "      <td>1463.000000</td>\n",
       "    </tr>\n",
       "    <tr>\n",
       "      <th>mean</th>\n",
       "      <td>3125.310874</td>\n",
       "      <td>5444.990635</td>\n",
       "      <td>0.476915</td>\n",
       "      <td>4.096587</td>\n",
       "      <td>18295.541353</td>\n",
       "    </tr>\n",
       "    <tr>\n",
       "      <th>std</th>\n",
       "      <td>6944.304394</td>\n",
       "      <td>10874.826864</td>\n",
       "      <td>0.216359</td>\n",
       "      <td>0.291574</td>\n",
       "      <td>42753.864952</td>\n",
       "    </tr>\n",
       "    <tr>\n",
       "      <th>min</th>\n",
       "      <td>39.000000</td>\n",
       "      <td>39.000000</td>\n",
       "      <td>0.000000</td>\n",
       "      <td>2.000000</td>\n",
       "      <td>2.000000</td>\n",
       "    </tr>\n",
       "    <tr>\n",
       "      <th>25%</th>\n",
       "      <td>325.000000</td>\n",
       "      <td>800.000000</td>\n",
       "      <td>0.320000</td>\n",
       "      <td>4.000000</td>\n",
       "      <td>1186.000000</td>\n",
       "    </tr>\n",
       "    <tr>\n",
       "      <th>50%</th>\n",
       "      <td>799.000000</td>\n",
       "      <td>1650.000000</td>\n",
       "      <td>0.500000</td>\n",
       "      <td>4.100000</td>\n",
       "      <td>5179.000000</td>\n",
       "    </tr>\n",
       "    <tr>\n",
       "      <th>75%</th>\n",
       "      <td>1999.000000</td>\n",
       "      <td>4295.000000</td>\n",
       "      <td>0.630000</td>\n",
       "      <td>4.300000</td>\n",
       "      <td>17336.500000</td>\n",
       "    </tr>\n",
       "    <tr>\n",
       "      <th>max</th>\n",
       "      <td>77990.000000</td>\n",
       "      <td>139900.000000</td>\n",
       "      <td>0.940000</td>\n",
       "      <td>5.000000</td>\n",
       "      <td>426973.000000</td>\n",
       "    </tr>\n",
       "  </tbody>\n",
       "</table>\n",
       "</div>"
      ],
      "text/plain": [
       "       discounted_price   actual_price  discount_percentage       rating  \\\n",
       "count       1465.000000    1465.000000          1465.000000  1465.000000   \n",
       "mean        3125.310874    5444.990635             0.476915     4.096587   \n",
       "std         6944.304394   10874.826864             0.216359     0.291574   \n",
       "min           39.000000      39.000000             0.000000     2.000000   \n",
       "25%          325.000000     800.000000             0.320000     4.000000   \n",
       "50%          799.000000    1650.000000             0.500000     4.100000   \n",
       "75%         1999.000000    4295.000000             0.630000     4.300000   \n",
       "max        77990.000000  139900.000000             0.940000     5.000000   \n",
       "\n",
       "        rating_count  \n",
       "count    1463.000000  \n",
       "mean    18295.541353  \n",
       "std     42753.864952  \n",
       "min         2.000000  \n",
       "25%      1186.000000  \n",
       "50%      5179.000000  \n",
       "75%     17336.500000  \n",
       "max    426973.000000  "
      ]
     },
     "execution_count": 15,
     "metadata": {},
     "output_type": "execute_result"
    }
   ],
   "source": [
    "df.describe()"
   ]
  },
  {
   "cell_type": "markdown",
   "id": "09af9442-8304-42a1-99ce-64603d388729",
   "metadata": {},
   "source": [
    "## Observation Set 2"
   ]
  },
  {
   "cell_type": "markdown",
   "id": "4f1b3385-a441-4ad9-af96-b904394f2ec5",
   "metadata": {},
   "source": [
    "-  All column data type was object So, I converted some column data type to float."
   ]
  },
  {
   "cell_type": "markdown",
   "id": "5e1866a7-6d19-4a05-9b57-4aa4056d24ae",
   "metadata": {},
   "source": [
    "### Dealing with the missing value"
   ]
  },
  {
   "cell_type": "code",
   "execution_count": 16,
   "id": "2eaa7b10-d14b-49fd-bf16-2ca0a04797f2",
   "metadata": {},
   "outputs": [
    {
     "data": {
      "text/plain": [
       "rating_count           2\n",
       "product_id             0\n",
       "product_name           0\n",
       "category               0\n",
       "discounted_price       0\n",
       "actual_price           0\n",
       "discount_percentage    0\n",
       "rating                 0\n",
       "about_product          0\n",
       "dtype: int64"
      ]
     },
     "execution_count": 16,
     "metadata": {},
     "output_type": "execute_result"
    }
   ],
   "source": [
    "df.isnull().sum().sort_values(ascending = False)"
   ]
  },
  {
   "cell_type": "code",
   "execution_count": 17,
   "id": "8ef36a78-fddf-467f-aefe-c6273eaafbb7",
   "metadata": {},
   "outputs": [
    {
     "data": {
      "text/plain": [
       "2"
      ]
     },
     "execution_count": 17,
     "metadata": {},
     "output_type": "execute_result"
    }
   ],
   "source": [
    "# Finding total number of missing value\n",
    "\n",
    "df.isnull().sum().sum()"
   ]
  },
  {
   "cell_type": "code",
   "execution_count": 18,
   "id": "cb8d4160-ecfc-4884-bc94-7940abf35710",
   "metadata": {},
   "outputs": [
    {
     "data": {
      "text/html": [
       "<div>\n",
       "<style scoped>\n",
       "    .dataframe tbody tr th:only-of-type {\n",
       "        vertical-align: middle;\n",
       "    }\n",
       "\n",
       "    .dataframe tbody tr th {\n",
       "        vertical-align: top;\n",
       "    }\n",
       "\n",
       "    .dataframe thead th {\n",
       "        text-align: right;\n",
       "    }\n",
       "</style>\n",
       "<table border=\"1\" class=\"dataframe\">\n",
       "  <thead>\n",
       "    <tr style=\"text-align: right;\">\n",
       "      <th></th>\n",
       "      <th>product_id</th>\n",
       "      <th>product_name</th>\n",
       "      <th>category</th>\n",
       "      <th>discounted_price</th>\n",
       "      <th>actual_price</th>\n",
       "      <th>discount_percentage</th>\n",
       "      <th>rating</th>\n",
       "      <th>rating_count</th>\n",
       "      <th>about_product</th>\n",
       "    </tr>\n",
       "  </thead>\n",
       "  <tbody>\n",
       "    <tr>\n",
       "      <th>282</th>\n",
       "      <td>B0B94JPY2N</td>\n",
       "      <td>Amazon Brand - Solimo 65W Fast Charging Braide...</td>\n",
       "      <td>Computers&amp;Accessories|Accessories&amp;Peripherals|...</td>\n",
       "      <td>199.0</td>\n",
       "      <td>999.0</td>\n",
       "      <td>0.80</td>\n",
       "      <td>3.0</td>\n",
       "      <td>NaN</td>\n",
       "      <td>USB C to C Cable: This cable has type C connec...</td>\n",
       "    </tr>\n",
       "    <tr>\n",
       "      <th>324</th>\n",
       "      <td>B0BQRJ3C47</td>\n",
       "      <td>REDTECH USB-C to Lightning Cable 3.3FT, [Apple...</td>\n",
       "      <td>Computers&amp;Accessories|Accessories&amp;Peripherals|...</td>\n",
       "      <td>249.0</td>\n",
       "      <td>999.0</td>\n",
       "      <td>0.75</td>\n",
       "      <td>5.0</td>\n",
       "      <td>NaN</td>\n",
       "      <td>💎[The Fastest Charge] - This iPhone USB C cabl...</td>\n",
       "    </tr>\n",
       "  </tbody>\n",
       "</table>\n",
       "</div>"
      ],
      "text/plain": [
       "     product_id                                       product_name  \\\n",
       "282  B0B94JPY2N  Amazon Brand - Solimo 65W Fast Charging Braide...   \n",
       "324  B0BQRJ3C47  REDTECH USB-C to Lightning Cable 3.3FT, [Apple...   \n",
       "\n",
       "                                              category  discounted_price  \\\n",
       "282  Computers&Accessories|Accessories&Peripherals|...             199.0   \n",
       "324  Computers&Accessories|Accessories&Peripherals|...             249.0   \n",
       "\n",
       "     actual_price  discount_percentage  rating  rating_count  \\\n",
       "282         999.0                 0.80     3.0           NaN   \n",
       "324         999.0                 0.75     5.0           NaN   \n",
       "\n",
       "                                         about_product  \n",
       "282  USB C to C Cable: This cable has type C connec...  \n",
       "324  💎[The Fastest Charge] - This iPhone USB C cabl...  "
      ]
     },
     "execution_count": 18,
     "metadata": {},
     "output_type": "execute_result"
    }
   ],
   "source": [
    "# we are only viewing the rows where there are missing values in the column\n",
    "\n",
    "df[df['rating_count'].isnull()].head(5)"
   ]
  },
  {
   "cell_type": "code",
   "execution_count": 19,
   "id": "aa1bd388-db29-41d5-9203-fde181004175",
   "metadata": {},
   "outputs": [],
   "source": [
    "# Impute missing values\n",
    "\n",
    "df['rating_count'] = df['rating_count'].fillna(value = df['rating_count'].median())"
   ]
  },
  {
   "cell_type": "code",
   "execution_count": 20,
   "id": "bf964eaa-a59b-4bb0-917b-03b00c1d0bc6",
   "metadata": {},
   "outputs": [
    {
     "data": {
      "text/plain": [
       "product_id             0\n",
       "product_name           0\n",
       "category               0\n",
       "discounted_price       0\n",
       "actual_price           0\n",
       "discount_percentage    0\n",
       "rating                 0\n",
       "rating_count           0\n",
       "about_product          0\n",
       "dtype: int64"
      ]
     },
     "execution_count": 20,
     "metadata": {},
     "output_type": "execute_result"
    }
   ],
   "source": [
    "df.isnull().sum().sort_values(ascending = False)"
   ]
  },
  {
   "cell_type": "markdown",
   "id": "b754fc2f-c1e7-45c9-9b43-4c2ac26095e1",
   "metadata": {},
   "source": [
    "### Milestone 1: \n",
    "##### We have cleaned the dataset from the null values"
   ]
  },
  {
   "cell_type": "markdown",
   "id": "8cc53960-50c5-4653-abec-e9a1516484d1",
   "metadata": {},
   "source": [
    "### Finding Duplicates and analyse them"
   ]
  },
  {
   "cell_type": "code",
   "execution_count": 21,
   "id": "5af03844-45e0-440d-a669-201fd5c8835c",
   "metadata": {},
   "outputs": [
    {
     "data": {
      "text/plain": [
       "True"
      ]
     },
     "execution_count": 21,
     "metadata": {},
     "output_type": "execute_result"
    }
   ],
   "source": [
    "df.duplicated().any()"
   ]
  },
  {
   "cell_type": "code",
   "execution_count": 22,
   "id": "28498a5d-2ce7-4cdf-bbd1-d0d45e49f4cb",
   "metadata": {},
   "outputs": [
    {
     "data": {
      "text/plain": [
       "Index(['product_id', 'product_name', 'category', 'discounted_price',\n",
       "       'actual_price', 'discount_percentage', 'rating', 'rating_count',\n",
       "       'about_product'],\n",
       "      dtype='object')"
      ]
     },
     "execution_count": 22,
     "metadata": {},
     "output_type": "execute_result"
    }
   ],
   "source": [
    "df.columns"
   ]
  },
  {
   "cell_type": "code",
   "execution_count": 24,
   "id": "d89d2925-330a-4dc9-9241-c1c71e386741",
   "metadata": {},
   "outputs": [],
   "source": [
    "any_duplicates = df.duplicated(subset =['product_id', 'product_name', 'category', 'discounted_price',\n",
    "       'actual_price', 'discount_percentage', 'rating', 'rating_count',\n",
    "       'about_product']).any()"
   ]
  },
  {
   "cell_type": "code",
   "execution_count": 25,
   "id": "439d04e7-44fd-4d84-9621-e207cab27c6a",
   "metadata": {},
   "outputs": [
    {
     "data": {
      "text/plain": [
       "True"
      ]
     },
     "execution_count": 25,
     "metadata": {},
     "output_type": "execute_result"
    }
   ],
   "source": [
    "any_duplicates"
   ]
  },
  {
   "cell_type": "markdown",
   "id": "e0ff1624-5347-4d26-989a-9b3993ac692c",
   "metadata": {},
   "source": [
    "### Milestone 2:\n",
    "##### No dupliates found"
   ]
  },
  {
   "cell_type": "markdown",
   "id": "5efa7725-796e-4fca-b4f4-2ad86c7f7805",
   "metadata": {},
   "source": [
    "# EDA"
   ]
  },
  {
   "cell_type": "markdown",
   "id": "da393db3-5838-4cd7-9164-9efd5667d12f",
   "metadata": {},
   "source": [
    "### Average ratings for each product category"
   ]
  },
  {
   "cell_type": "code",
   "execution_count": 26,
   "id": "a125a985-1c74-40c8-bf25-8f0704a67444",
   "metadata": {},
   "outputs": [
    {
     "data": {
      "text/html": [
       "<div>\n",
       "<style scoped>\n",
       "    .dataframe tbody tr th:only-of-type {\n",
       "        vertical-align: middle;\n",
       "    }\n",
       "\n",
       "    .dataframe tbody tr th {\n",
       "        vertical-align: top;\n",
       "    }\n",
       "\n",
       "    .dataframe thead th {\n",
       "        text-align: right;\n",
       "    }\n",
       "</style>\n",
       "<table border=\"1\" class=\"dataframe\">\n",
       "  <thead>\n",
       "    <tr style=\"text-align: right;\">\n",
       "      <th></th>\n",
       "      <th>category</th>\n",
       "      <th>rating</th>\n",
       "    </tr>\n",
       "  </thead>\n",
       "  <tbody>\n",
       "    <tr>\n",
       "      <th>0</th>\n",
       "      <td>Car&amp;Motorbike|CarAccessories|InteriorAccessori...</td>\n",
       "      <td>3.800000</td>\n",
       "    </tr>\n",
       "    <tr>\n",
       "      <th>1</th>\n",
       "      <td>Computers&amp;Accessories|Accessories&amp;Peripherals|...</td>\n",
       "      <td>4.150000</td>\n",
       "    </tr>\n",
       "    <tr>\n",
       "      <th>2</th>\n",
       "      <td>Computers&amp;Accessories|Accessories&amp;Peripherals|...</td>\n",
       "      <td>3.500000</td>\n",
       "    </tr>\n",
       "    <tr>\n",
       "      <th>3</th>\n",
       "      <td>Computers&amp;Accessories|Accessories&amp;Peripherals|...</td>\n",
       "      <td>3.600000</td>\n",
       "    </tr>\n",
       "    <tr>\n",
       "      <th>4</th>\n",
       "      <td>Computers&amp;Accessories|Accessories&amp;Peripherals|...</td>\n",
       "      <td>4.050000</td>\n",
       "    </tr>\n",
       "    <tr>\n",
       "      <th>...</th>\n",
       "      <td>...</td>\n",
       "      <td>...</td>\n",
       "    </tr>\n",
       "    <tr>\n",
       "      <th>206</th>\n",
       "      <td>OfficeProducts|OfficePaperProducts|Paper|Stati...</td>\n",
       "      <td>4.250000</td>\n",
       "    </tr>\n",
       "    <tr>\n",
       "      <th>207</th>\n",
       "      <td>OfficeProducts|OfficePaperProducts|Paper|Stati...</td>\n",
       "      <td>4.150000</td>\n",
       "    </tr>\n",
       "    <tr>\n",
       "      <th>208</th>\n",
       "      <td>OfficeProducts|OfficePaperProducts|Paper|Stati...</td>\n",
       "      <td>4.300000</td>\n",
       "    </tr>\n",
       "    <tr>\n",
       "      <th>209</th>\n",
       "      <td>OfficeProducts|OfficePaperProducts|Paper|Stati...</td>\n",
       "      <td>4.133333</td>\n",
       "    </tr>\n",
       "    <tr>\n",
       "      <th>210</th>\n",
       "      <td>Toys&amp;Games|Arts&amp;Crafts|Drawing&amp;PaintingSupplie...</td>\n",
       "      <td>4.300000</td>\n",
       "    </tr>\n",
       "  </tbody>\n",
       "</table>\n",
       "<p>211 rows × 2 columns</p>\n",
       "</div>"
      ],
      "text/plain": [
       "                                              category    rating\n",
       "0    Car&Motorbike|CarAccessories|InteriorAccessori...  3.800000\n",
       "1    Computers&Accessories|Accessories&Peripherals|...  4.150000\n",
       "2    Computers&Accessories|Accessories&Peripherals|...  3.500000\n",
       "3    Computers&Accessories|Accessories&Peripherals|...  3.600000\n",
       "4    Computers&Accessories|Accessories&Peripherals|...  4.050000\n",
       "..                                                 ...       ...\n",
       "206  OfficeProducts|OfficePaperProducts|Paper|Stati...  4.250000\n",
       "207  OfficeProducts|OfficePaperProducts|Paper|Stati...  4.150000\n",
       "208  OfficeProducts|OfficePaperProducts|Paper|Stati...  4.300000\n",
       "209  OfficeProducts|OfficePaperProducts|Paper|Stati...  4.133333\n",
       "210  Toys&Games|Arts&Crafts|Drawing&PaintingSupplie...  4.300000\n",
       "\n",
       "[211 rows x 2 columns]"
      ]
     },
     "execution_count": 26,
     "metadata": {},
     "output_type": "execute_result"
    }
   ],
   "source": [
    "# Calculate the average ratings for each product category\n",
    "average_ratings = df.groupby(\"category\")[\"rating\"].mean().reset_index()\n",
    "average_ratings"
   ]
  },
  {
   "cell_type": "markdown",
   "id": "3f7ccabb-7129-47af-83f8-119334aace59",
   "metadata": {},
   "source": [
    "-  The output shows that most product categories have generally positive customer feedback, with average ratings above 3.50. However, some categories have lower ratings(e.g. 2 and 3), suggesting potential area of improvement."
   ]
  },
  {
   "cell_type": "markdown",
   "id": "71a177c7-6518-409c-b39a-69f0de0b8a9b",
   "metadata": {},
   "source": [
    "### Top rating_count products by category"
   ]
  },
  {
   "cell_type": "code",
   "execution_count": 27,
   "id": "df305b10-56d5-48e1-a18c-b867f52db5c4",
   "metadata": {},
   "outputs": [
    {
     "data": {
      "text/html": [
       "<div>\n",
       "<style scoped>\n",
       "    .dataframe tbody tr th:only-of-type {\n",
       "        vertical-align: middle;\n",
       "    }\n",
       "\n",
       "    .dataframe tbody tr th {\n",
       "        vertical-align: top;\n",
       "    }\n",
       "\n",
       "    .dataframe thead th {\n",
       "        text-align: right;\n",
       "    }\n",
       "</style>\n",
       "<table border=\"1\" class=\"dataframe\">\n",
       "  <thead>\n",
       "    <tr style=\"text-align: right;\">\n",
       "      <th></th>\n",
       "      <th>product_id</th>\n",
       "      <th>product_name</th>\n",
       "      <th>category</th>\n",
       "      <th>discounted_price</th>\n",
       "      <th>actual_price</th>\n",
       "      <th>discount_percentage</th>\n",
       "      <th>rating</th>\n",
       "      <th>rating_count</th>\n",
       "      <th>about_product</th>\n",
       "    </tr>\n",
       "  </thead>\n",
       "  <tbody>\n",
       "    <tr>\n",
       "      <th>0</th>\n",
       "      <td>B0912WJ87V</td>\n",
       "      <td>Reffair AX30 [MAX] Portable Air Purifier for C...</td>\n",
       "      <td>Car&amp;Motorbike|CarAccessories|InteriorAccessori...</td>\n",
       "      <td>2339.0</td>\n",
       "      <td>4000.0</td>\n",
       "      <td>0.42</td>\n",
       "      <td>3.8</td>\n",
       "      <td>1118.0</td>\n",
       "      <td>[NEW LAUNCH - INNOVATIVE DESIGN] EFFICIENT PUR...</td>\n",
       "    </tr>\n",
       "    <tr>\n",
       "      <th>1</th>\n",
       "      <td>B097C564GC</td>\n",
       "      <td>rts [2 Pack] Mini USB C Type C Adapter Plug, T...</td>\n",
       "      <td>Computers&amp;Accessories|Accessories&amp;Peripherals|...</td>\n",
       "      <td>294.0</td>\n",
       "      <td>4999.0</td>\n",
       "      <td>0.94</td>\n",
       "      <td>4.3</td>\n",
       "      <td>4426.0</td>\n",
       "      <td>【WIDER COMPATIBILITY】This USB C Female to USB ...</td>\n",
       "    </tr>\n",
       "    <tr>\n",
       "      <th>2</th>\n",
       "      <td>B094DQWV9B</td>\n",
       "      <td>Kanget [2 Pack] Type C Female to USB A Male Ch...</td>\n",
       "      <td>Computers&amp;Accessories|Accessories&amp;Peripherals|...</td>\n",
       "      <td>149.0</td>\n",
       "      <td>399.0</td>\n",
       "      <td>0.63</td>\n",
       "      <td>4.0</td>\n",
       "      <td>1540.0</td>\n",
       "      <td>👍【USB C TO USB ADAPTER】-This is a USB C FEMALE...</td>\n",
       "    </tr>\n",
       "    <tr>\n",
       "      <th>3</th>\n",
       "      <td>B009LJ2BXA</td>\n",
       "      <td>Hp Wired On Ear Headphones With Mic With 3.5 M...</td>\n",
       "      <td>Computers&amp;Accessories|Accessories&amp;Peripherals|...</td>\n",
       "      <td>649.0</td>\n",
       "      <td>999.0</td>\n",
       "      <td>0.35</td>\n",
       "      <td>3.5</td>\n",
       "      <td>7222.0</td>\n",
       "      <td>Powerful bass and clear treble sounds|Wired co...</td>\n",
       "    </tr>\n",
       "    <tr>\n",
       "      <th>4</th>\n",
       "      <td>B08SCCG9D4</td>\n",
       "      <td>JBL Commercial CSLM20B Auxiliary Omnidirection...</td>\n",
       "      <td>Computers&amp;Accessories|Accessories&amp;Peripherals|...</td>\n",
       "      <td>949.0</td>\n",
       "      <td>2000.0</td>\n",
       "      <td>0.53</td>\n",
       "      <td>3.9</td>\n",
       "      <td>14969.0</td>\n",
       "      <td>Omnidirectional pickup pattern|3.5mm TRRS jack...</td>\n",
       "    </tr>\n",
       "    <tr>\n",
       "      <th>...</th>\n",
       "      <td>...</td>\n",
       "      <td>...</td>\n",
       "      <td>...</td>\n",
       "      <td>...</td>\n",
       "      <td>...</td>\n",
       "      <td>...</td>\n",
       "      <td>...</td>\n",
       "      <td>...</td>\n",
       "      <td>...</td>\n",
       "    </tr>\n",
       "    <tr>\n",
       "      <th>815</th>\n",
       "      <td>B00LOD70SC</td>\n",
       "      <td>Pilot V7 Liquid Ink Roller Ball Pen (2 Blue + ...</td>\n",
       "      <td>OfficeProducts|OfficePaperProducts|Paper|Stati...</td>\n",
       "      <td>178.0</td>\n",
       "      <td>210.0</td>\n",
       "      <td>0.15</td>\n",
       "      <td>4.3</td>\n",
       "      <td>2450.0</td>\n",
       "      <td>Unique 3 dimple tip technology from Japan for ...</td>\n",
       "    </tr>\n",
       "    <tr>\n",
       "      <th>816</th>\n",
       "      <td>B07SBGFDX9</td>\n",
       "      <td>Pentonic Multicolor Ball Point Pen, Pack of 10</td>\n",
       "      <td>OfficeProducts|OfficePaperProducts|Paper|Stati...</td>\n",
       "      <td>120.0</td>\n",
       "      <td>120.0</td>\n",
       "      <td>0.00</td>\n",
       "      <td>4.1</td>\n",
       "      <td>4308.0</td>\n",
       "      <td>0.7 mm tip size|Black Body, Multicolor Ink(Bla...</td>\n",
       "    </tr>\n",
       "    <tr>\n",
       "      <th>817</th>\n",
       "      <td>B00LZPQVMK</td>\n",
       "      <td>Parker Vector Standard Chrome Trim Ball Pen (I...</td>\n",
       "      <td>OfficeProducts|OfficePaperProducts|Paper|Stati...</td>\n",
       "      <td>272.0</td>\n",
       "      <td>320.0</td>\n",
       "      <td>0.15</td>\n",
       "      <td>4.0</td>\n",
       "      <td>3686.0</td>\n",
       "      <td>A solid plastic body of the glossy black desig...</td>\n",
       "    </tr>\n",
       "    <tr>\n",
       "      <th>818</th>\n",
       "      <td>B0746N6WML</td>\n",
       "      <td>Parker Vector Camouflage Gift Set - Roller Bal...</td>\n",
       "      <td>OfficeProducts|OfficePaperProducts|Paper|Stati...</td>\n",
       "      <td>341.0</td>\n",
       "      <td>450.0</td>\n",
       "      <td>0.24</td>\n",
       "      <td>4.3</td>\n",
       "      <td>2493.0</td>\n",
       "      <td>This charming looking pen is made up of ABS pl...</td>\n",
       "    </tr>\n",
       "    <tr>\n",
       "      <th>819</th>\n",
       "      <td>B00DJ5N9VK</td>\n",
       "      <td>Faber-Castell Connector Pen Set - Pack of 25 (...</td>\n",
       "      <td>Toys&amp;Games|Arts&amp;Crafts|Drawing&amp;PaintingSupplie...</td>\n",
       "      <td>150.0</td>\n",
       "      <td>150.0</td>\n",
       "      <td>0.00</td>\n",
       "      <td>4.3</td>\n",
       "      <td>15867.0</td>\n",
       "      <td>Simply draw and color or clip these pens toget...</td>\n",
       "    </tr>\n",
       "  </tbody>\n",
       "</table>\n",
       "<p>820 rows × 9 columns</p>\n",
       "</div>"
      ],
      "text/plain": [
       "     product_id                                       product_name  \\\n",
       "0    B0912WJ87V  Reffair AX30 [MAX] Portable Air Purifier for C...   \n",
       "1    B097C564GC  rts [2 Pack] Mini USB C Type C Adapter Plug, T...   \n",
       "2    B094DQWV9B  Kanget [2 Pack] Type C Female to USB A Male Ch...   \n",
       "3    B009LJ2BXA  Hp Wired On Ear Headphones With Mic With 3.5 M...   \n",
       "4    B08SCCG9D4  JBL Commercial CSLM20B Auxiliary Omnidirection...   \n",
       "..          ...                                                ...   \n",
       "815  B00LOD70SC  Pilot V7 Liquid Ink Roller Ball Pen (2 Blue + ...   \n",
       "816  B07SBGFDX9     Pentonic Multicolor Ball Point Pen, Pack of 10   \n",
       "817  B00LZPQVMK  Parker Vector Standard Chrome Trim Ball Pen (I...   \n",
       "818  B0746N6WML  Parker Vector Camouflage Gift Set - Roller Bal...   \n",
       "819  B00DJ5N9VK  Faber-Castell Connector Pen Set - Pack of 25 (...   \n",
       "\n",
       "                                              category  discounted_price  \\\n",
       "0    Car&Motorbike|CarAccessories|InteriorAccessori...            2339.0   \n",
       "1    Computers&Accessories|Accessories&Peripherals|...             294.0   \n",
       "2    Computers&Accessories|Accessories&Peripherals|...             149.0   \n",
       "3    Computers&Accessories|Accessories&Peripherals|...             649.0   \n",
       "4    Computers&Accessories|Accessories&Peripherals|...             949.0   \n",
       "..                                                 ...               ...   \n",
       "815  OfficeProducts|OfficePaperProducts|Paper|Stati...             178.0   \n",
       "816  OfficeProducts|OfficePaperProducts|Paper|Stati...             120.0   \n",
       "817  OfficeProducts|OfficePaperProducts|Paper|Stati...             272.0   \n",
       "818  OfficeProducts|OfficePaperProducts|Paper|Stati...             341.0   \n",
       "819  Toys&Games|Arts&Crafts|Drawing&PaintingSupplie...             150.0   \n",
       "\n",
       "     actual_price  discount_percentage  rating  rating_count  \\\n",
       "0          4000.0                 0.42     3.8        1118.0   \n",
       "1          4999.0                 0.94     4.3        4426.0   \n",
       "2           399.0                 0.63     4.0        1540.0   \n",
       "3           999.0                 0.35     3.5        7222.0   \n",
       "4          2000.0                 0.53     3.9       14969.0   \n",
       "..            ...                  ...     ...           ...   \n",
       "815         210.0                 0.15     4.3        2450.0   \n",
       "816         120.0                 0.00     4.1        4308.0   \n",
       "817         320.0                 0.15     4.0        3686.0   \n",
       "818         450.0                 0.24     4.3        2493.0   \n",
       "819         150.0                 0.00     4.3       15867.0   \n",
       "\n",
       "                                         about_product  \n",
       "0    [NEW LAUNCH - INNOVATIVE DESIGN] EFFICIENT PUR...  \n",
       "1    【WIDER COMPATIBILITY】This USB C Female to USB ...  \n",
       "2    👍【USB C TO USB ADAPTER】-This is a USB C FEMALE...  \n",
       "3    Powerful bass and clear treble sounds|Wired co...  \n",
       "4    Omnidirectional pickup pattern|3.5mm TRRS jack...  \n",
       "..                                                 ...  \n",
       "815  Unique 3 dimple tip technology from Japan for ...  \n",
       "816  0.7 mm tip size|Black Body, Multicolor Ink(Bla...  \n",
       "817  A solid plastic body of the glossy black desig...  \n",
       "818  This charming looking pen is made up of ABS pl...  \n",
       "819  Simply draw and color or clip these pens toget...  \n",
       "\n",
       "[820 rows x 9 columns]"
      ]
     },
     "execution_count": 27,
     "metadata": {},
     "output_type": "execute_result"
    }
   ],
   "source": [
    "df.groupby(\"category\").apply(lambda x: x.nlargest(10, \"rating_count\")).reset_index(drop=True)"
   ]
  },
  {
   "cell_type": "markdown",
   "id": "8e723135-131b-4bac-a451-811a649221b9",
   "metadata": {},
   "source": [
    "-  Based on high review counts, which indicate consumer interest, the output identifies products that are probably going to be well-liked within their categories.\n",
    "-  Most listed products have ratings above 3.5, indicating a generally positive customer experience.\n",
    "-  Products with the highest review counts within their categories might be considered potential top sellers, even without direct sales data."
   ]
  },
  {
   "cell_type": "markdown",
   "id": "6af15969-e86e-4e56-9b56-3ecac884f307",
   "metadata": {},
   "source": [
    "### Discounted prices vs. Actual prices"
   ]
  },
  {
   "cell_type": "code",
   "execution_count": 28,
   "id": "2927509f-981d-43b6-bc3d-7d8b59462bea",
   "metadata": {},
   "outputs": [
    {
     "data": {
      "text/plain": [
       "<Axes: >"
      ]
     },
     "execution_count": 28,
     "metadata": {},
     "output_type": "execute_result"
    },
    {
     "data": {
      "image/png": "[encoded data removed]",
      "text/plain": [
       "<Figure size 640x480 with 1 Axes>"
      ]
     },
     "metadata": {},
     "output_type": "display_data"
    }
   ],
   "source": [
    "# Create histograms\n",
    "df[\"discounted_price\"].hist(label=\"Discounted Price\")\n",
    "df[\"actual_price\"].hist(label=\"Actual Price\")\n",
    "\n",
    "# Calculate and analyze discount percentages\n",
    "df[\"discount_percentage\"] = (df[\"actual_price\"] - df[\"discounted_price\"]) / df[\"actual_price\"] * 100\n",
    "df[\"discount_percentage\"].describe()\n",
    "df[\"discount_percentage\"].hist(label=\"Discount Percentage\")"
   ]
  },
  {
   "cell_type": "markdown",
   "id": "9da14b94-a359-4630-9c04-f1dac1dc3282",
   "metadata": {},
   "source": [
    "- The output shows that discounted prices are generally lower than actual prices, with a median discounted price of ₹200  and a median actual price of ₹400.\r",
    "- \n",
    "The discount percentage distribution is skewed to the left, with most products having a discount of 30% or less\n",
    "- \r\n",
    "The output suggests that there may be opportunities to increase discounted prices or discount percentages to attract more customers."
   ]
  },
  {
   "cell_type": "markdown",
   "id": "94720d26-38e5-448a-8660-79534528393f",
   "metadata": {},
   "source": [
    "### Average discount percentage per category"
   ]
  },
  {
   "cell_type": "code",
   "execution_count": 29,
   "id": "dd9c5da2-36bd-4285-b131-df2910645bc0",
   "metadata": {},
   "outputs": [
    {
     "name": "stdout",
     "output_type": "stream",
     "text": [
      "category\n",
      "Car&Motorbike|CarAccessories|InteriorAccessories|AirPurifiers&Ionizers                                                    41.525000\n",
      "Computers&Accessories|Accessories&Peripherals|Adapters|USBtoUSBAdapters                                                   78.387733\n",
      "Computers&Accessories|Accessories&Peripherals|Audio&VideoAccessories|PCHeadsets                                           35.035035\n",
      "Computers&Accessories|Accessories&Peripherals|Audio&VideoAccessories|PCMicrophones                                        56.335120\n",
      "Computers&Accessories|Accessories&Peripherals|Audio&VideoAccessories|PCSpeakers                                           46.719582\n",
      "                                                                                                                            ...    \n",
      "OfficeProducts|OfficePaperProducts|Paper|Stationery|Pens,Pencils&WritingSupplies|Pens&Refills|GelInkRollerballPens         0.000000\n",
      "OfficeProducts|OfficePaperProducts|Paper|Stationery|Pens,Pencils&WritingSupplies|Pens&Refills|LiquidInkRollerballPens      5.000000\n",
      "OfficeProducts|OfficePaperProducts|Paper|Stationery|Pens,Pencils&WritingSupplies|Pens&Refills|RetractableBallpointPens    17.619048\n",
      "OfficeProducts|OfficePaperProducts|Paper|Stationery|Pens,Pencils&WritingSupplies|Pens&Refills|StickBallpointPens          13.074074\n",
      "Toys&Games|Arts&Crafts|Drawing&PaintingSupplies|ColouringPens&Markers                                                      0.000000\n",
      "Name: discount_percentage, Length: 211, dtype: float64\n"
     ]
    },
    {
     "data": {
      "image/png": "[encoded data removed]",
      "text/plain": [
       "<Figure size 640x480 with 1 Axes>"
      ]
     },
     "metadata": {},
     "output_type": "display_data"
    }
   ],
   "source": [
    "# calculate the average discount percentage across different categories\n",
    "avg_discount_per_category = df.groupby('category')['discount_percentage'].mean()\n",
    "print(avg_discount_per_category)\n",
    "\n",
    "#Visualization\n",
    "\n",
    "sns.barplot(x = avg_discount_per_category.index, y = avg_discount_per_category.values)\n",
    "plt.xlabel('category')\n",
    "plt.ylabel('Average discount percentage')\n",
    "plt.show()"
   ]
  },
  {
   "cell_type": "markdown",
   "id": "d518656d-85c7-4613-8285-5c922be72464",
   "metadata": {},
   "source": [
    "- Average discount percentages vary widely across categories, ranging from 0% to 78.39%.\r",
    "- \n",
    "Categories 1 and 3 stand out with notably higher average discounts (78.39% and 56.34%), suggesting potential factors like clearance efforts, high   competition, or lower-profit margins\n",
    "- \r\n",
    "Categories 0, 206, 207, 210 have average discounts of 0%, indicating consistent pricing or strong demand for products within those categorie\n",
    "- .\r\n",
    "Other categories exhibit varying discount percentages, likely reflecting diverse pricing strategies and market dynamics."
   ]
  },
  {
   "cell_type": "markdown",
   "id": "c8633bff-b2b4-45cd-a2c9-0a24cc9c53ab",
   "metadata": {},
   "source": [
    "### Most popular Product Name"
   ]
  },
  {
   "cell_type": "code",
   "execution_count": 30,
   "id": "e63abb1b-2313-4f3f-b2e0-b52ad8fc1fa0",
   "metadata": {},
   "outputs": [
    {
     "data": {
      "text/plain": [
       "product_name\n",
       "Fire-Boltt Ninja Call Pro Plus 1.83\" Smart Watch with Bluetooth Calling, AI Voice Assistance, 100 Sports Modes IP67 Rating, 240*280 Pixel High Resolution                                                  5\n",
       "Fire-Boltt Phoenix Smart Watch with Bluetooth Calling 1.3\",120+ Sports Modes, 240*240 PX High Res with SpO2, Heart Rate Monitoring & IP67 Rating                                                           4\n",
       "Ambrane 2 in 1 Type-C & Micro USB Cable with 60W / 3A Fast Charging, 480 mbps High Data, PD Technology & Quick Charge 3.0, Compatible with All Type-C & Micro USB Devices (ABDC-10, Black)                 3\n",
       "Pinnaclz Original Combo of 2 Micro USB Fast Charging Cable, USB Charging Cable for Data Transfer Perfect for Android Smart Phones White 1.2 Meter Made in India (Pack of 2)                                3\n",
       "Portronics Konnect L POR-1081 Fast Charging 3A Type-C Cable 1.2Meter with Charge & Sync Function for All Type-C Devices (Grey)                                                                             3\n",
       "boAt Micro USB 55 Tangle-free, Sturdy Micro USB Cable with 3A Fast Charging & 480mbps Data Transmission (Black)                                                                                            3\n",
       "MI Usb Type-C Cable Smartphone (Black)                                                                                                                                                                     3\n",
       "pTron Solero TB301 3A Type-C Data and Fast Charging Cable, Made in India, 480Mbps Data Sync, Strong and Durable 1.5-Meter Nylon Braided USB Cable for Type-C Devices for Charging Adapter (Black)          3\n",
       "Portronics Konnect L 1.2M Fast Charging 3A 8 Pin USB Cable with Charge & Sync Function for iPhone, iPad (Grey)                                                                                             3\n",
       "boAt Deuce USB 300 2 in 1 Type-C & Micro USB Stress Resistant, Tangle-Free, Sturdy Cable with 3A Fast Charging & 480mbps Data Transmission, 10000+ Bends Lifespan and Extended 1.5m Length(Martian Red)    3\n",
       "Name: count, dtype: int64"
      ]
     },
     "execution_count": 30,
     "metadata": {},
     "output_type": "execute_result"
    }
   ],
   "source": [
    "# Most popular Product\n",
    "\n",
    "most_popular_products = df['product_name'].value_counts().sort_values(ascending = False).head(10)\n",
    "most_popular_products"
   ]
  },
  {
   "cell_type": "markdown",
   "id": "eda5d985-c8a6-4865-aef2-a310061df0c8",
   "metadata": {},
   "source": [
    "- Fire-Boltt Ninja Call Pro Plus Smart Watch is most popular product followed by Fire-Boltt Phoenix Smart Watch.\n",
    "- Smart watches and fast charging cables are most popular product categories.\n",
    "- Multiple brands are represented, with boAt appearing twice.\n",
    "- Fast charging, durability, and functionality are key features. "
   ]
  },
  {
   "cell_type": "markdown",
   "id": "ab88f1ee-8e81-4c79-a5bf-42920779ce1b",
   "metadata": {},
   "source": [
    "### Most Popular Product Keywords"
   ]
  },
  {
   "cell_type": "code",
   "execution_count": 31,
   "id": "369f757c-c070-4d89-858a-169365fbc7da",
   "metadata": {},
   "outputs": [
    {
     "data": {
      "text/plain": [
       "with        751\n",
       "for         672\n",
       "usb         377\n",
       "and         330\n",
       "cable       320\n",
       "charging    219\n",
       "to          218\n",
       "fast        211\n",
       "c           182\n",
       "smart       171\n",
       "Name: count, dtype: int64"
      ]
     },
     "execution_count": 31,
     "metadata": {},
     "output_type": "execute_result"
    }
   ],
   "source": [
    "# Most Popular Product Keywords\n",
    "\n",
    "def extract_keywords(product_name):\n",
    "    if isinstance(product_name, str):\n",
    "        keywords = product_name.lower().split() # ['aa bb cc'] --> ['aa','bb','cc','45k']\n",
    "        keywords = [word for word in keywords if word.isalpha()]\n",
    "    else :\n",
    "        keywords = []\n",
    "    return keywords\n",
    "# Applying the function to extrcat keywords\n",
    "df[\"keywords\"] = df[\"product_name\"].apply(extract_keywords)\n",
    "#df[\"keywords\"]\n",
    "\n",
    "# Flatten the list of keywords\n",
    "all_keywords = [keyword for keywords in df[\"keywords\"] for keyword in keywords]\n",
    "\n",
    "# Count keyword occurrences\n",
    "keyword_counts = pd.Series(all_keywords).value_counts().head(10)\n",
    "keyword_counts"
   ]
  },
  {
   "cell_type": "markdown",
   "id": "0df7a877-6390-4101-83a4-73a0d7e6828c",
   "metadata": {},
   "source": [
    "- USB connectivity, charging (especially fast charging), and cables are prominent product features.\r",
    "- \n",
    "Prepositions and conjunctions like \"with\", \"for\", \"and\", \"to\" suggest a focus on explaining product compatibility and usage scenarios\n",
    "- \r\n",
    "Cables and smart devices are likely well-represented ithe dataset.\n",
    "- Product names tend to be concise and use common words, potentially benefiting from refined keyword extraction techniques.es."
   ]
  },
  {
   "cell_type": "markdown",
   "id": "642b3d7d-672c-4025-9e40-e20d8aff1520",
   "metadata": {},
   "source": [
    "### Correlation between discounted_price and rating"
   ]
  },
  {
   "cell_type": "code",
   "execution_count": 32,
   "id": "8714ccfa-a15f-4f4e-bd0a-253361798116",
   "metadata": {},
   "outputs": [
    {
     "name": "stdout",
     "output_type": "stream",
     "text": [
      "Correlation between discounted_price and rating: 0.12\n"
     ]
    }
   ],
   "source": [
    "# Calculate the correlation coefficient\n",
    "correlation_coefficient = df[\"discounted_price\"].corr(df[\"rating\"])\n",
    "\n",
    "# Print the correlation coefficient with two decimal places\n",
    "print(f\"Correlation between discounted_price and rating: {correlation_coefficient:.2f}\")"
   ]
  },
  {
   "cell_type": "markdown",
   "id": "5a52973d-e223-40f5-a7a4-312299026cef",
   "metadata": {},
   "source": [
    "- Discounted price and rating have a weak positive correlation. This means that products with higher discounted prices tend to have slightly higher ratings, but the relationship is not very strong."
   ]
  },
  {
   "cell_type": "markdown",
   "id": "27e55d88-ad34-43df-8f08-ce7de17b9fe7",
   "metadata": {},
   "source": [
    "### Top 5 categories based with highest ratings"
   ]
  },
  {
   "cell_type": "code",
   "execution_count": 33,
   "id": "3b062105-d577-49ac-993c-105d034403eb",
   "metadata": {},
   "outputs": [
    {
     "name": "stdout",
     "output_type": "stream",
     "text": [
      "Top 5 categories with highest average ratings:\n",
      "1. Computers&Accessories|Tablets: 4.60\n",
      "2. Computers&Accessories|NetworkingDevices|NetworkAdapters|PowerLANAdapters: 4.50\n",
      "3. Electronics|Cameras&Photography|Accessories|Film: 4.50\n",
      "4. Electronics|HomeAudio|MediaStreamingDevices|StreamingClients: 4.50\n",
      "5. OfficeProducts|OfficeElectronics|Calculators|Basic: 4.50\n"
     ]
    }
   ],
   "source": [
    "# Group data by category and calculate average rating\n",
    "average_ratings = df.groupby(\"category\")[\"rating\"].mean().reset_index()\n",
    "\n",
    "# Sort by average rating in descending order\n",
    "average_ratings = average_ratings.sort_values(by=\"rating\", ascending=False)\n",
    "\n",
    "# Print the top 5 categories\n",
    "print(\"Top 5 categories with highest average ratings:\")\n",
    "for i in range(5):\n",
    "    category = average_ratings.iloc[i][\"category\"]\n",
    "    average_rating = average_ratings.iloc[i][\"rating\"]\n",
    "    print(f\"{i+1}. {category}: {average_rating:.2f}\")"
   ]
  },
  {
   "cell_type": "markdown",
   "id": "b5418c09-90f4-4ea0-92d7-9ed82794b2a8",
   "metadata": {},
   "source": [
    "- The top 5 categories have average ratings between 4.50 and 4.60, indicating overall positive customer satisfaction within these areas.\r",
    "- \n",
    "Most of the top-rated categories fall within technology-related domains, including tablets, networking devices, photography accessories, media streaming devices, and calculators\n",
    "- Four categories share a rating of 4.50, suggesting similar levels of customer satisfaction across these areas.\r\n",
    "."
   ]
  },
  {
   "cell_type": "markdown",
   "id": "f94e8c3d-596e-4c4b-a4cb-9a307148c0d9",
   "metadata": {},
   "source": [
    "# CONCLUSION"
   ]
  },
  {
   "cell_type": "markdown",
   "id": "f548aa13-7e67-4829-8341-66584bfc9918",
   "metadata": {},
   "source": [
    "#### The primary goal of this project is to analyze the Amazon Sales dataset and identify insights based on the data. provides a wealth of information about customer behavior, product trends, and market conditions. By conducting exploratory data analysis (EDA) on this dataset, businesses can gain valuable insights that can help them make better decisions about their products, marketing, and operations."
   ]
  },
  {
   "cell_type": "code",
   "execution_count": null,
   "id": "88e8f38b-1eee-4c0b-9b72-06641f9e6d4e",
   "metadata": {},
   "outputs": [],
   "source": []
  },
  {
   "cell_type": "code",
   "execution_count": null,
   "id": "3e68a729-1bdf-42a5-b879-716232eedff6",
   "metadata": {},
   "outputs": [],
   "source": []
  },
  {
   "cell_type": "code",
   "execution_count": null,
   "id": "5693b2a6-5b90-4dca-8532-5f767900c84b",
   "metadata": {},
   "outputs": [],
   "source": []
  }
 ],
 "metadata": {
  "kernelspec": {
   "display_name": "Python 3 (ipykernel)",
   "language": "python",
   "name": "python3"
  },
  "language_info": {
   "codemirror_mode": {
    "name": "ipython",
    "version": 3
   },
   "file_extension": ".py",
   "mimetype": "text/x-python",
   "name": "python",
   "nbconvert_exporter": "python",
   "pygments_lexer": "ipython3",
   "version": "3.11.7"
  }
 },
 "nbformat": 4,
 "nbformat_minor": 5
}
